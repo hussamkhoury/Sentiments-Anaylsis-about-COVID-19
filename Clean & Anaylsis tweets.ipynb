{
 "cells": [
  {
   "cell_type": "code",
   "execution_count": 77,
   "metadata": {
    "scrolled": true
   },
   "outputs": [],
   "source": [
    "import numpy as np \n",
    "import pandas as pd \n",
    "import re\n",
    "import nltk \n",
    "import matplotlib.pyplot as plt\n",
    "import seaborn as sns\n",
    "%matplotlib inline"
   ]
  },
  {
   "cell_type": "code",
   "execution_count": 78,
   "metadata": {
    "scrolled": true
   },
   "outputs": [
    {
     "data": {
      "text/html": [
       "<div>\n",
       "<style scoped>\n",
       "    .dataframe tbody tr th:only-of-type {\n",
       "        vertical-align: middle;\n",
       "    }\n",
       "\n",
       "    .dataframe tbody tr th {\n",
       "        vertical-align: top;\n",
       "    }\n",
       "\n",
       "    .dataframe thead th {\n",
       "        text-align: right;\n",
       "    }\n",
       "</style>\n",
       "<table border=\"1\" class=\"dataframe\">\n",
       "  <thead>\n",
       "    <tr style=\"text-align: right;\">\n",
       "      <th></th>\n",
       "      <th>UserName</th>\n",
       "      <th>ScreenName</th>\n",
       "      <th>Location</th>\n",
       "      <th>TweetAt</th>\n",
       "      <th>OriginalTweet</th>\n",
       "      <th>Sentiment</th>\n",
       "    </tr>\n",
       "  </thead>\n",
       "  <tbody>\n",
       "    <tr>\n",
       "      <th>0</th>\n",
       "      <td>3799</td>\n",
       "      <td>48751</td>\n",
       "      <td>London</td>\n",
       "      <td>16-03-2020</td>\n",
       "      <td>@MeNyrbie @Phil_Gahan @Chrisitv https://t.co/i...</td>\n",
       "      <td>Neutral</td>\n",
       "    </tr>\n",
       "    <tr>\n",
       "      <th>1</th>\n",
       "      <td>3800</td>\n",
       "      <td>48752</td>\n",
       "      <td>UK</td>\n",
       "      <td>16-03-2020</td>\n",
       "      <td>advice Talk to your neighbours family to excha...</td>\n",
       "      <td>Positive</td>\n",
       "    </tr>\n",
       "    <tr>\n",
       "      <th>2</th>\n",
       "      <td>3801</td>\n",
       "      <td>48753</td>\n",
       "      <td>Vagabonds</td>\n",
       "      <td>16-03-2020</td>\n",
       "      <td>Coronavirus Australia: Woolworths to give elde...</td>\n",
       "      <td>Positive</td>\n",
       "    </tr>\n",
       "    <tr>\n",
       "      <th>3</th>\n",
       "      <td>3802</td>\n",
       "      <td>48754</td>\n",
       "      <td>NaN</td>\n",
       "      <td>16-03-2020</td>\n",
       "      <td>My food stock is not the only one which is emp...</td>\n",
       "      <td>Positive</td>\n",
       "    </tr>\n",
       "    <tr>\n",
       "      <th>4</th>\n",
       "      <td>3803</td>\n",
       "      <td>48755</td>\n",
       "      <td>NaN</td>\n",
       "      <td>16-03-2020</td>\n",
       "      <td>Me, ready to go at supermarket during the #COV...</td>\n",
       "      <td>Extremely Negative</td>\n",
       "    </tr>\n",
       "    <tr>\n",
       "      <th>5</th>\n",
       "      <td>3804</td>\n",
       "      <td>48756</td>\n",
       "      <td>أœT: 36.319708,-82.363649</td>\n",
       "      <td>16-03-2020</td>\n",
       "      <td>As news of the regionآ’s first confirmed COVID...</td>\n",
       "      <td>Positive</td>\n",
       "    </tr>\n",
       "    <tr>\n",
       "      <th>6</th>\n",
       "      <td>3805</td>\n",
       "      <td>48757</td>\n",
       "      <td>35.926541,-78.753267</td>\n",
       "      <td>16-03-2020</td>\n",
       "      <td>Cashier at grocery store was sharing his insig...</td>\n",
       "      <td>Positive</td>\n",
       "    </tr>\n",
       "    <tr>\n",
       "      <th>7</th>\n",
       "      <td>3806</td>\n",
       "      <td>48758</td>\n",
       "      <td>Austria</td>\n",
       "      <td>16-03-2020</td>\n",
       "      <td>Was at the supermarket today. Didn't buy toile...</td>\n",
       "      <td>Neutral</td>\n",
       "    </tr>\n",
       "    <tr>\n",
       "      <th>8</th>\n",
       "      <td>3807</td>\n",
       "      <td>48759</td>\n",
       "      <td>Atlanta, GA USA</td>\n",
       "      <td>16-03-2020</td>\n",
       "      <td>Due to COVID-19 our retail store and classroom...</td>\n",
       "      <td>Positive</td>\n",
       "    </tr>\n",
       "    <tr>\n",
       "      <th>9</th>\n",
       "      <td>3808</td>\n",
       "      <td>48760</td>\n",
       "      <td>BHAVNAGAR,GUJRAT</td>\n",
       "      <td>16-03-2020</td>\n",
       "      <td>For corona prevention,we should stop to buy th...</td>\n",
       "      <td>Negative</td>\n",
       "    </tr>\n",
       "  </tbody>\n",
       "</table>\n",
       "</div>"
      ],
      "text/plain": [
       "   UserName  ScreenName                   Location     TweetAt  \\\n",
       "0      3799       48751                     London  16-03-2020   \n",
       "1      3800       48752                         UK  16-03-2020   \n",
       "2      3801       48753                  Vagabonds  16-03-2020   \n",
       "3      3802       48754                        NaN  16-03-2020   \n",
       "4      3803       48755                        NaN  16-03-2020   \n",
       "5      3804       48756  أœT: 36.319708,-82.363649  16-03-2020   \n",
       "6      3805       48757       35.926541,-78.753267  16-03-2020   \n",
       "7      3806       48758                    Austria  16-03-2020   \n",
       "8      3807       48759            Atlanta, GA USA  16-03-2020   \n",
       "9      3808       48760           BHAVNAGAR,GUJRAT  16-03-2020   \n",
       "\n",
       "                                       OriginalTweet           Sentiment  \n",
       "0  @MeNyrbie @Phil_Gahan @Chrisitv https://t.co/i...             Neutral  \n",
       "1  advice Talk to your neighbours family to excha...            Positive  \n",
       "2  Coronavirus Australia: Woolworths to give elde...            Positive  \n",
       "3  My food stock is not the only one which is emp...            Positive  \n",
       "4  Me, ready to go at supermarket during the #COV...  Extremely Negative  \n",
       "5  As news of the regionآ’s first confirmed COVID...            Positive  \n",
       "6  Cashier at grocery store was sharing his insig...            Positive  \n",
       "7  Was at the supermarket today. Didn't buy toile...             Neutral  \n",
       "8  Due to COVID-19 our retail store and classroom...            Positive  \n",
       "9  For corona prevention,we should stop to buy th...            Negative  "
      ]
     },
     "execution_count": 78,
     "metadata": {},
     "output_type": "execute_result"
    }
   ],
   "source": [
    "# Loading the data\n",
    "\n",
    "data = pd.read_csv('Covid_19_tweets_train.csv',  engine='python')\n",
    "data.head(10)"
   ]
  },
  {
   "cell_type": "code",
   "execution_count": 79,
   "metadata": {
    "scrolled": true
   },
   "outputs": [
    {
     "name": "stdout",
     "output_type": "stream",
     "text": [
      "<class 'pandas.core.frame.DataFrame'>\n",
      "RangeIndex: 41157 entries, 0 to 41156\n",
      "Data columns (total 6 columns):\n",
      " #   Column         Non-Null Count  Dtype \n",
      "---  ------         --------------  ----- \n",
      " 0   UserName       41157 non-null  int64 \n",
      " 1   ScreenName     41157 non-null  int64 \n",
      " 2   Location       32567 non-null  object\n",
      " 3   TweetAt        41157 non-null  object\n",
      " 4   OriginalTweet  41157 non-null  object\n",
      " 5   Sentiment      41157 non-null  object\n",
      "dtypes: int64(2), object(4)\n",
      "memory usage: 1.9+ MB\n"
     ]
    }
   ],
   "source": [
    "# data information\n",
    "data.info()"
   ]
  },
  {
   "cell_type": "markdown",
   "metadata": {},
   "source": [
    "From the information above we can notice that there is null values in the location column.\n",
    "the UserName and ScreenName columns have integers values, and the other four columns have objects."
   ]
  },
  {
   "cell_type": "markdown",
   "metadata": {},
   "source": [
    "The first tweet is messy because it has mentions, stop words, and urls.\n",
    "We want to remove all these elements in the cleaning process from all tweets.\n",
    "So after finishing the cleaning process, the first tweet will disappear."
   ]
  },
  {
   "cell_type": "code",
   "execution_count": 80,
   "metadata": {
    "scrolled": true
   },
   "outputs": [
    {
     "data": {
      "text/plain": [
       "'@MeNyrbie @Phil_Gahan @Chrisitv https://t.co/iFz9FAn2Pa and https://t.co/xX6ghGFzCC and https://t.co/I2NlzdxNo8'"
      ]
     },
     "execution_count": 80,
     "metadata": {},
     "output_type": "execute_result"
    }
   ],
   "source": [
    "# First tweet\n",
    "data[\"OriginalTweet\"][0]"
   ]
  },
  {
   "cell_type": "markdown",
   "metadata": {},
   "source": [
    "1 - Text Cleaning:"
   ]
  },
  {
   "cell_type": "code",
   "execution_count": 81,
   "metadata": {
    "scrolled": true
   },
   "outputs": [],
   "source": [
    "# Text Cleaning\n",
    "def clean_by_pattern(text, pattern):\n",
    "  '''repalcing a matched pattern in a text with a single space, and return a list of the text sentences.'''\n",
    "  cleaned_data = []\n",
    "  for d in text:\n",
    "    cleaned_data.append(re.sub(pattern,' ',str(d)))\n",
    "    \n",
    "  return cleaned_data\n",
    "\n",
    "patterns = [r\"https://(\\S*)\", r\"@(\\S*)\", r\"[^a-zA-Z#]\", r\"\\s\\s+\", r'\\s+[a-zA-Z]\\s+']\n",
    "\n",
    "temp = []\n",
    "cleaned_tweets = []\n",
    "cleaned_tweets = clean_by_pattern(data[\"OriginalTweet\"], patterns[0]) # remove urls and images\n",
    "temp = clean_by_pattern(cleaned_tweets, patterns[1]) # remove mentions\n",
    "cleaned_tweets = clean_by_pattern(temp, patterns[2]) # remove the rest(numbers, punctuations, ....) except the hashtags.\n",
    "temp = clean_by_pattern(cleaned_tweets, patterns[3]) # replace multiple space (which we have after applying the previous pattern) with single space. \n",
    "cleaned_tweets = clean_by_pattern(temp, patterns[4]) # remove single characters (which we have after applying the previous pattern).\n",
    "# convert all tweets characters to lower case.\n",
    "temp = []\n",
    "for itr in range(0, len(cleaned_tweets)):\n",
    "    temp.append(cleaned_tweets[itr].lower())\n",
    "cleaned_tweets = temp"
   ]
  },
  {
   "cell_type": "code",
   "execution_count": 82,
   "metadata": {
    "scrolled": false
   },
   "outputs": [
    {
     "data": {
      "text/plain": [
       "[' and and ',\n",
       " 'advice talk to your neighbours family to exchange phone numbers create contact list with phone numbers of neighbours schools employer chemist gp set up online shopping accounts if poss adequate supplies of regular meds but not over order',\n",
       " 'coronavirus australia woolworths to give elderly disabled dedicated shopping hours amid covid outbreak ',\n",
       " 'my food stock is not the only one which is empty please don panic there will be enough food for everyone if you do not take more than you need stay calm stay safe #covid france #covid #covid #coronavirus #confinement #confinementotal #confinementgeneral ',\n",
       " 'me ready to go at supermarket during the #covid outbreak not because m paranoid but because my food stock is litteraly empty the #coronavirus is serious thing but please don panic it causes shortage #coronavirusfrance #restezchezvous #stayathome #confinement ',\n",
       " 'as news of the region first confirmed covid case came out of sullivan county last week people flocked to area stores to purchase cleaning supplies hand sanitizer food toilet paper and other goods reports ',\n",
       " 'cashier at grocery store was sharing his insights on #covid to prove his credibility he commented m in civics class so know what m talking about ',\n",
       " 'was at the supermarket today didn buy toilet paper #rebel #toiletpapercrisis #covid ',\n",
       " 'due to covid our retail store and classroom in atlanta will not be open for walk in business or classes for the next two weeks beginning monday march we will continue to process online and phone orders as normal thank you for your understanding ',\n",
       " 'for corona prevention we should stop to buy things with the cash and should use online payment methods because corona can spread through the notes also we should prefer online shopping from our home it time to fight against covid #govindia #indiafightscorona']"
      ]
     },
     "execution_count": 82,
     "metadata": {},
     "output_type": "execute_result"
    }
   ],
   "source": [
    "cleaned_tweets[:10]"
   ]
  },
  {
   "cell_type": "code",
   "execution_count": 83,
   "metadata": {},
   "outputs": [
    {
     "name": "stderr",
     "output_type": "stream",
     "text": [
      "[nltk_data] Error loading stopwords: <urlopen error [Errno 11001]\n",
      "[nltk_data]     getaddrinfo failed>\n"
     ]
    },
    {
     "name": "stdout",
     "output_type": "stream",
     "text": [
      "stopword fraction from the tweet: 0.10441698893832263\n"
     ]
    },
    {
     "data": {
      "text/plain": [
       "[['advice',\n",
       "  'talk',\n",
       "  'neighbours',\n",
       "  'family',\n",
       "  'exchange',\n",
       "  'phone',\n",
       "  'numbers',\n",
       "  'create',\n",
       "  'contact',\n",
       "  'list',\n",
       "  'phone',\n",
       "  'numbers',\n",
       "  'neighbours',\n",
       "  'schools',\n",
       "  'employer',\n",
       "  'chemist',\n",
       "  'gp',\n",
       "  'set',\n",
       "  'online',\n",
       "  'shopping',\n",
       "  'accounts',\n",
       "  'poss',\n",
       "  'adequate',\n",
       "  'supplies',\n",
       "  'regular',\n",
       "  'meds',\n",
       "  'order'],\n",
       " ['coronavirus',\n",
       "  'australia',\n",
       "  'woolworths',\n",
       "  'give',\n",
       "  'elderly',\n",
       "  'disabled',\n",
       "  'dedicated',\n",
       "  'shopping',\n",
       "  'hours',\n",
       "  'amid',\n",
       "  'covid',\n",
       "  'outbreak'],\n",
       " ['food',\n",
       "  'stock',\n",
       "  'one',\n",
       "  'empty',\n",
       "  'please',\n",
       "  'panic',\n",
       "  'enough',\n",
       "  'food',\n",
       "  'everyone',\n",
       "  'take',\n",
       "  'need',\n",
       "  'stay',\n",
       "  'calm',\n",
       "  'stay',\n",
       "  'safe',\n",
       "  '#covid',\n",
       "  'france',\n",
       "  '#covid',\n",
       "  '#covid',\n",
       "  '#coronavirus',\n",
       "  '#confinement',\n",
       "  '#confinementotal',\n",
       "  '#confinementgeneral']]"
      ]
     },
     "execution_count": 83,
     "metadata": {},
     "output_type": "execute_result"
    }
   ],
   "source": [
    "# Removing stopwords\n",
    "from nltk.corpus import stopwords\n",
    "nltk.download('stopwords')\n",
    "stwd = stopwords.words('english')\n",
    "\n",
    "def content_fraction(text):\n",
    "    content = [w for w in \" \".join(text).split(\" \") if w not in stwd]\n",
    "    return len(content) / len(\" \".join(text))\n",
    "print(f\"stopword fraction from the tweet: {content_fraction(cleaned_tweets)}\")\n",
    "\n",
    "final_cleaned_tweets_tokens = []\n",
    "for tweet in cleaned_tweets:\n",
    "    sentence = [w for w in tweet.split() if w not in stwd] \n",
    "    if sentence:\n",
    "        final_cleaned_tweets_tokens.append(sentence)\n",
    "final_cleaned_tweets_tokens[:3]"
   ]
  },
  {
   "cell_type": "markdown",
   "metadata": {},
   "source": [
    "The stopwords make a small fraction of the data, but we have removed it anyway to get rid of some tweets like the first one which contains stopwords only after cleaning. "
   ]
  },
  {
   "cell_type": "markdown",
   "metadata": {},
   "source": [
    "Normalization:"
   ]
  },
  {
   "cell_type": "code",
   "execution_count": 84,
   "metadata": {
    "scrolled": true
   },
   "outputs": [
    {
     "data": {
      "text/plain": [
       "[['advic',\n",
       "  'talk',\n",
       "  'neighbour',\n",
       "  'famili',\n",
       "  'exchang',\n",
       "  'phone',\n",
       "  'number',\n",
       "  'creat',\n",
       "  'contact',\n",
       "  'list',\n",
       "  'phone',\n",
       "  'number',\n",
       "  'neighbour',\n",
       "  'school',\n",
       "  'employ',\n",
       "  'chemist',\n",
       "  'gp',\n",
       "  'set',\n",
       "  'onlin',\n",
       "  'shop',\n",
       "  'account',\n",
       "  'poss',\n",
       "  'adequ',\n",
       "  'suppli',\n",
       "  'regular',\n",
       "  'med',\n",
       "  'order'],\n",
       " ['coronaviru',\n",
       "  'australia',\n",
       "  'woolworth',\n",
       "  'give',\n",
       "  'elderli',\n",
       "  'disabl',\n",
       "  'dedic',\n",
       "  'shop',\n",
       "  'hour',\n",
       "  'amid',\n",
       "  'covid',\n",
       "  'outbreak'],\n",
       " ['food',\n",
       "  'stock',\n",
       "  'one',\n",
       "  'empti',\n",
       "  'pleas',\n",
       "  'panic',\n",
       "  'enough',\n",
       "  'food',\n",
       "  'everyon',\n",
       "  'take',\n",
       "  'need',\n",
       "  'stay',\n",
       "  'calm',\n",
       "  'stay',\n",
       "  'safe',\n",
       "  '#covid',\n",
       "  'franc',\n",
       "  '#covid',\n",
       "  '#covid',\n",
       "  '#coronaviru',\n",
       "  '#confin',\n",
       "  '#confinementot',\n",
       "  '#confinementgener']]"
      ]
     },
     "execution_count": 84,
     "metadata": {},
     "output_type": "execute_result"
    }
   ],
   "source": [
    "#Stemming\n",
    "from nltk.stem.porter import *\n",
    "\n",
    "stemmer = PorterStemmer()\n",
    "\n",
    "stem_tokenized_tweets = []\n",
    "\n",
    "for sentence in final_cleaned_tweets_tokens:\n",
    "    stem_tokenized_tweets.append(list(stemmer.stem(word) for word in sentence))\n",
    "    \n",
    "stem_tokenized_tweets[:3]"
   ]
  },
  {
   "cell_type": "code",
   "execution_count": 85,
   "metadata": {},
   "outputs": [
    {
     "name": "stderr",
     "output_type": "stream",
     "text": [
      "[nltk_data] Error loading wordnet: <urlopen error [Errno 11001]\n",
      "[nltk_data]     getaddrinfo failed>\n"
     ]
    },
    {
     "data": {
      "text/plain": [
       "[['advice',\n",
       "  'talk',\n",
       "  'neighbour',\n",
       "  'family',\n",
       "  'exchange',\n",
       "  'phone',\n",
       "  'number',\n",
       "  'create',\n",
       "  'contact',\n",
       "  'list',\n",
       "  'phone',\n",
       "  'number',\n",
       "  'neighbour',\n",
       "  'school',\n",
       "  'employer',\n",
       "  'chemist',\n",
       "  'gp',\n",
       "  'set',\n",
       "  'online',\n",
       "  'shopping',\n",
       "  'account',\n",
       "  'po',\n",
       "  'adequate',\n",
       "  'supply',\n",
       "  'regular',\n",
       "  'med',\n",
       "  'order'],\n",
       " ['coronavirus',\n",
       "  'australia',\n",
       "  'woolworth',\n",
       "  'give',\n",
       "  'elderly',\n",
       "  'disabled',\n",
       "  'dedicated',\n",
       "  'shopping',\n",
       "  'hour',\n",
       "  'amid',\n",
       "  'covid',\n",
       "  'outbreak'],\n",
       " ['food',\n",
       "  'stock',\n",
       "  'one',\n",
       "  'empty',\n",
       "  'please',\n",
       "  'panic',\n",
       "  'enough',\n",
       "  'food',\n",
       "  'everyone',\n",
       "  'take',\n",
       "  'need',\n",
       "  'stay',\n",
       "  'calm',\n",
       "  'stay',\n",
       "  'safe',\n",
       "  '#covid',\n",
       "  'france',\n",
       "  '#covid',\n",
       "  '#covid',\n",
       "  '#coronavirus',\n",
       "  '#confinement',\n",
       "  '#confinementotal',\n",
       "  '#confinementgeneral']]"
      ]
     },
     "execution_count": 85,
     "metadata": {},
     "output_type": "execute_result"
    }
   ],
   "source": [
    "# Lemmatization\n",
    "nltk.download('wordnet')\n",
    "wnl = nltk.WordNetLemmatizer()\n",
    "lemmatized_tweets = []\n",
    "for tokens in final_cleaned_tweets_tokens:\n",
    "    lemmatized_tweets.append([wnl.lemmatize(t) for t in tokens])\n",
    "# for tokens in tokenized_tweets:\n",
    "#     for index, (token, lemma) in enumerate(zip(tokens, lemmatizedTokens)):\n",
    "#         print(token + \"\\t\" + lemma) \n",
    "lemmatized_tweets[:3]"
   ]
  },
  {
   "cell_type": "markdown",
   "metadata": {},
   "source": [
    "2 - Text Analysis:"
   ]
  },
  {
   "cell_type": "markdown",
   "metadata": {},
   "source": [
    "The main problem with the lemmatization is that it removes the the hashtags. and the stemming process isn't helpful here because the majority of the words don't have many\\long suffix and it makes a lot of unaccurate words."
   ]
  },
  {
   "cell_type": "code",
   "execution_count": 86,
   "metadata": {},
   "outputs": [
    {
     "name": "stdout",
     "output_type": "stream",
     "text": [
      "<FreqDist with 47489 samples and 720008 outcomes>\n"
     ]
    }
   ],
   "source": [
    "fdist1 = nltk.FreqDist(w for s in final_cleaned_tweets_tokens for w in s)\n",
    "print(fdist1)"
   ]
  },
  {
   "cell_type": "markdown",
   "metadata": {},
   "source": [
    "The most 20 frequent words in the tweets:\n",
    "\n",
    "-we can notice that it is about the hastags of disease name (#covid ,#coronavirus) which is expected.\n",
    "\n",
    "-also we can notice the rest is about (food, markets, and prices) which is expected too because of the quarantine and the economical states.\n",
    "\n",
    "-the word (people) also may consider fequent due to statics about the infictions.\n",
    "\n",
    "-the words (shopping, online) are almost has the same frequency, and may have a strong connection due to quarantines"
   ]
  },
  {
   "cell_type": "code",
   "execution_count": 87,
   "metadata": {},
   "outputs": [
    {
     "data": {
      "text/plain": [
       "[('#coronavirus', 16029),\n",
       " ('#covid', 12529),\n",
       " ('covid', 10687),\n",
       " ('prices', 7866),\n",
       " ('store', 6895),\n",
       " ('food', 6878),\n",
       " ('supermarket', 6720),\n",
       " ('grocery', 6100),\n",
       " ('people', 5605),\n",
       " ('amp', 5196),\n",
       " ('consumer', 4435),\n",
       " ('shopping', 3379),\n",
       " ('online', 3363),\n",
       " ('get', 2877),\n",
       " ('pandemic', 2803),\n",
       " ('need', 2716),\n",
       " ('workers', 2599),\n",
       " ('panic', 2561),\n",
       " ('us', 2379),\n",
       " ('like', 2375)]"
      ]
     },
     "execution_count": 87,
     "metadata": {},
     "output_type": "execute_result"
    }
   ],
   "source": [
    "fdist1.most_common(20)"
   ]
  },
  {
   "cell_type": "markdown",
   "metadata": {},
   "source": [
    "The first Hapaxes:\n",
    "\n",
    "-It contains hashtags."
   ]
  },
  {
   "cell_type": "code",
   "execution_count": 88,
   "metadata": {},
   "outputs": [
    {
     "data": {
      "text/plain": [
       "['#confinementgeneral',\n",
       " 'litteraly',\n",
       " '#coronavirusfrance',\n",
       " 'civics',\n",
       " '#rebel',\n",
       " '#govindia',\n",
       " '#manila',\n",
       " '#horningsea',\n",
       " 'adara',\n",
       " 'inficted',\n",
       " 'guilde',\n",
       " 'safty',\n",
       " 'irosponcible',\n",
       " '#iptvnew',\n",
       " 'iptvlinks',\n",
       " '#tracker',\n",
       " 'dcwp',\n",
       " '#covidnyc',\n",
       " 'ensues',\n",
       " 'alr',\n",
       " 'objected',\n",
       " '#jlmco',\n",
       " '#jlmcobrand',\n",
       " '#nohandshakes',\n",
       " '#nohandsanitizer',\n",
       " '#imadethisup',\n",
       " 'freezable',\n",
       " '#peoplearelosingtheirminds',\n",
       " 'proliferation',\n",
       " 'misinformed']"
      ]
     },
     "execution_count": 88,
     "metadata": {},
     "output_type": "execute_result"
    }
   ],
   "source": [
    "fdist1.hapaxes()[:30]"
   ]
  },
  {
   "cell_type": "markdown",
   "metadata": {},
   "source": [
    "The number of Hapaxes:\n",
    "\n",
    "-Nearly half of the distinct words in the tweets.\n",
    "\n",
    "-So we can notice for previous statistics that the majority of the common words in the tweets is about the pandamic(which is obvious) and about quarantines, food and economical states. which make about half of the distinct words in the tweets.  "
   ]
  },
  {
   "cell_type": "code",
   "execution_count": 89,
   "metadata": {},
   "outputs": [
    {
     "data": {
      "text/plain": [
       "25714"
      ]
     },
     "execution_count": 89,
     "metadata": {},
     "output_type": "execute_result"
    }
   ],
   "source": [
    "len(fdist1.hapaxes())"
   ]
  },
  {
   "cell_type": "markdown",
   "metadata": {},
   "source": [
    "Bigrams:"
   ]
  },
  {
   "cell_type": "code",
   "execution_count": 90,
   "metadata": {},
   "outputs": [
    {
     "data": {
      "text/plain": [
       "[('advice', 'talk'),\n",
       " ('talk', 'neighbours'),\n",
       " ('neighbours', 'family'),\n",
       " ('family', 'exchange'),\n",
       " ('exchange', 'phone'),\n",
       " ('phone', 'numbers'),\n",
       " ('numbers', 'create'),\n",
       " ('create', 'contact'),\n",
       " ('contact', 'list'),\n",
       " ('list', 'phone'),\n",
       " ('phone', 'numbers'),\n",
       " ('numbers', 'neighbours'),\n",
       " ('neighbours', 'schools'),\n",
       " ('schools', 'employer'),\n",
       " ('employer', 'chemist'),\n",
       " ('chemist', 'gp'),\n",
       " ('gp', 'set'),\n",
       " ('set', 'online'),\n",
       " ('online', 'shopping'),\n",
       " ('shopping', 'accounts')]"
      ]
     },
     "execution_count": 90,
     "metadata": {},
     "output_type": "execute_result"
    }
   ],
   "source": [
    "all_words = [w for s in final_cleaned_tweets_tokens for w in s]\n",
    "# all_words[:50]\n",
    "bigrams = []\n",
    "# for word in all_words:\n",
    "bigrams.append(list(nltk.bigrams(all_words)))\n",
    "bigrams = bigrams[0]\n",
    "bigrams[:20]"
   ]
  },
  {
   "cell_type": "code",
   "execution_count": 91,
   "metadata": {},
   "outputs": [
    {
     "name": "stdout",
     "output_type": "stream",
     "text": [
      "the 20 most common bigrams are: [('#coronavirus', 32058), ('#covid', 25058), ('covid', 21374), ('prices', 15732), ('store', 13790), ('food', 13756), ('supermarket', 13440), ('grocery', 12200), ('people', 11210), ('amp', 10392), ('consumer', 8870), ('shopping', 6758), ('online', 6726), ('get', 5754), ('pandemic', 5606), ('need', 5432), ('workers', 5198), ('panic', 5122), ('us', 4758), ('like', 4750)]\n"
     ]
    }
   ],
   "source": [
    "fdistbigrams = []\n",
    "fdistbigrams = nltk.FreqDist([bi for list_ in bigrams for bi in list_])\n",
    "print(f\"the 20 most common bigrams are: {fdistbigrams.most_common(20)}\")"
   ]
  },
  {
   "cell_type": "markdown",
   "metadata": {},
   "source": [
    "3 - Trending Topics:\n",
    "\n",
    "The most common hashtags:"
   ]
  },
  {
   "cell_type": "code",
   "execution_count": 92,
   "metadata": {},
   "outputs": [
    {
     "name": "stdout",
     "output_type": "stream",
     "text": [
      "The most common tag is: #coronavirus which is repeated 16029 time.\n"
     ]
    }
   ],
   "source": [
    "hashtags = {}\n",
    "for tweet in final_cleaned_tweets_tokens:\n",
    "    for word in tweet:\n",
    "        if word[0] == '#':\n",
    "            if word in hashtags:\n",
    "                hashtags[word] += 1\n",
    "            else:\n",
    "                hashtags[word] = 1\n",
    "print(f\"The most common tag is: {max(hashtags, key=hashtags.get)} which is repeated {hashtags[max(hashtags, key=hashtags.get)]} time.\")"
   ]
  },
  {
   "cell_type": "code",
   "execution_count": 93,
   "metadata": {},
   "outputs": [
    {
     "name": "stdout",
     "output_type": "stream",
     "text": [
      "the first 10 most relevant hastags in the tweets:\n"
     ]
    },
    {
     "data": {
      "text/plain": [
       "[('#coronavirus', 16029),\n",
       " ('#covid', 12529),\n",
       " ('#toiletpaper', 1616),\n",
       " ('#socialdistancing', 944),\n",
       " ('#coronacrisis', 767),\n",
       " ('#', 715),\n",
       " ('#pandemic', 488),\n",
       " ('#stayhome', 466),\n",
       " ('#coronavirusoutbreak', 441),\n",
       " ('#coronaviruspandemic', 440)]"
      ]
     },
     "execution_count": 93,
     "metadata": {},
     "output_type": "execute_result"
    }
   ],
   "source": [
    "hash_tags = []\n",
    "for w in sorted(hashtags, key=hashtags.get, reverse=True): #the sort iterates over the dictionary keys, using the number of word occurrences as a sort key \n",
    "    hash_tags.append((w, hashtags[w]))\n",
    "print(\"the first 10 most relevant hastags in the tweets:\")\n",
    "hash_tags[:10]"
   ]
  },
  {
   "cell_type": "code",
   "execution_count": 94,
   "metadata": {},
   "outputs": [
    {
     "name": "stdout",
     "output_type": "stream",
     "text": [
      "10 of less relevant hastags in the tweets:\n"
     ]
    },
    {
     "data": {
      "text/plain": [
       "[('#confinementgeneral', 1),\n",
       " ('#coronavirusfrance', 1),\n",
       " ('#rebel', 1),\n",
       " ('#govindia', 1),\n",
       " ('#manila', 1),\n",
       " ('#horningsea', 1),\n",
       " ('#iptvnew', 1),\n",
       " ('#tracker', 1),\n",
       " ('#covidnyc', 1),\n",
       " ('#jlmco', 1)]"
      ]
     },
     "execution_count": 94,
     "metadata": {},
     "output_type": "execute_result"
    }
   ],
   "source": [
    "hash_tags = []\n",
    "for w in sorted(hashtags, key=hashtags.get, reverse=False): #the sort iterates over the dictionary keys, using the number of word occurrences as a sort key \n",
    "    hash_tags.append((w, hashtags[w]))\n",
    "print(\"10 of less relevant hastags in the tweets:\")\n",
    "hash_tags[:10]"
   ]
  },
  {
   "cell_type": "code",
   "execution_count": 95,
   "metadata": {},
   "outputs": [
    {
     "data": {
      "image/png": "[encoded data removed]",
      "text/plain": [
       "<Figure size 720x720 with 1 Axes>"
      ]
     },
     "metadata": {},
     "output_type": "display_data"
    }
   ],
   "source": [
    "F1 = nltk.FreqDist(data['Location'])\n",
    "data_f1 = pd.DataFrame({'Location': list(F1.keys()),\n",
    "                  'Count': list(F1.values())})\n",
    "# 10 most frequent locations     \n",
    "ten_most_fre1 = data_f1.nlargest(columns=\"Count\", n = 10) \n",
    "plt.figure(figsize=(10,10))\n",
    "plt.pie(ten_most_fre1[\"Count\"], labels = ten_most_fre1[\"Location\"])\n",
    "\n",
    "plt.show()"
   ]
  },
  {
   "cell_type": "code",
   "execution_count": 96,
   "metadata": {},
   "outputs": [
    {
     "data": {
      "image/png": "[encoded data removed]",
      "text/plain": [
       "<Figure size 720x720 with 1 Axes>"
      ]
     },
     "metadata": {},
     "output_type": "display_data"
    }
   ],
   "source": [
    "F2 = nltk.FreqDist(data['Location'].dropna())\n",
    "data_f2 = pd.DataFrame({'Location': list(F2.keys()),\n",
    "                  'Count': list(F2.values())})\n",
    "# 10 most frequent locations     \n",
    "ten_most_fre2 = data_f2.nlargest(columns=\"Count\", n = 10) \n",
    "plt.figure(figsize=(10,10))\n",
    "plt.pie(ten_most_fre2[\"Count\"], labels = ten_most_fre2[\"Location\"])\n",
    "\n",
    "plt.show()"
   ]
  },
  {
   "cell_type": "markdown",
   "metadata": {},
   "source": [
    "We can notice from the previous chart that dropping the Nan values will makes a huge impact on the charts.\n",
    "\n",
    "\n",
    "London - England - United state have taken a bigger amount of tweets maybe because they have suffered more than the other countries from the disease or maybe the distribution depends on the collection of data.\n",
    "\n",
    "But there are a huge amount of tweets with no specific location so the distribution of the tweets on countries are not accurate and we can't guarante the above countries to have the biggest amount of tweets."
   ]
  },
  {
   "cell_type": "code",
   "execution_count": 97,
   "metadata": {},
   "outputs": [
    {
     "data": {
      "image/png": "[encoded data removed]",
      "text/plain": [
       "<Figure size 720x720 with 1 Axes>"
      ]
     },
     "metadata": {},
     "output_type": "display_data"
    }
   ],
   "source": [
    "#Sentiment\n",
    "F3 = nltk.FreqDist(data['Sentiment'])\n",
    "data_f3 = pd.DataFrame({'Sentiment': list(F3.keys()),\n",
    "                  'Count': list(F3.values())})\n",
    "# 10 most frequent locations     \n",
    "ten_most_fre3 = data_f3.nlargest(columns=\"Count\", n = 10) \n",
    "plt.figure(figsize=(10,10))\n",
    "plt.pie(ten_most_fre3[\"Count\"], labels = ten_most_fre3[\"Sentiment\"])\n",
    "\n",
    "plt.show()"
   ]
  },
  {
   "cell_type": "markdown",
   "metadata": {},
   "source": [
    "Postive and negative sentiments from the tweet are very close and make a big portion.\n",
    "\n",
    "The Rest are gradient from neutral to extremely positive and negative."
   ]
  },
  {
   "cell_type": "code",
   "execution_count": 98,
   "metadata": {},
   "outputs": [
    {
     "data": {
      "image/png": "[encoded data removed]",
      "text/plain": [
       "<Figure size 720x720 with 1 Axes>"
      ]
     },
     "metadata": {},
     "output_type": "display_data"
    }
   ],
   "source": [
    "# fdist1 is already computed ubove for the most common hastags\n",
    "data_f4 = pd.DataFrame({'Hastags': list(fdist1.keys()),\n",
    "                  'Count': list(fdist1.values())})\n",
    "# 10 most frequent locations     \n",
    "ten_most_fre4 = data_f4.nlargest(columns=\"Count\", n = 10) \n",
    "plt.figure(figsize=(10,10))\n",
    "plt.pie(ten_most_fre4[\"Count\"], labels = ten_most_fre4[\"Hastags\"])\n",
    "\n",
    "plt.show()"
   ]
  },
  {
   "cell_type": "markdown",
   "metadata": {},
   "source": [
    "coronavirus and covid make a bigger portion from top ten hashtags and the rest are about people, food ,prices......related to tweets descriping the status during the pandamic."
   ]
  }
 ],
 "metadata": {
  "kernelspec": {
   "display_name": "Python 3",
   "language": "python",
   "name": "python3"
  },
  "language_info": {
   "codemirror_mode": {
    "name": "ipython",
    "version": 3
   },
   "file_extension": ".py",
   "mimetype": "text/x-python",
   "name": "python",
   "nbconvert_exporter": "python",
   "pygments_lexer": "ipython3",
   "version": "3.7.3"
  }
 },
 "nbformat": 4,
 "nbformat_minor": 4
}
